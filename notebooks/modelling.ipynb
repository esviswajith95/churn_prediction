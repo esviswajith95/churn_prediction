{
 "cells": [
  {
   "cell_type": "markdown",
   "metadata": {},
   "source": [
    "# Telecom Churn Prediction - Modelling"
   ]
  },
  {
   "cell_type": "code",
   "execution_count": 101,
   "metadata": {},
   "outputs": [],
   "source": [
    "import numpy as np\n",
    "import pandas as pd\n",
    "import matplotlib.pyplot as plt\n",
    "import seaborn as sns\n",
    "from sklearn.preprocessing import OneHotEncoder, StandardScaler\n",
    "from sklearn.pipeline import Pipeline, FeatureUnion\n",
    "from sklearn.compose import ColumnTransformer\n",
    "\n",
    "from sklearn.model_selection import train_test_split, GridSearchCV, StratifiedShuffleSplit\n",
    "from sklearn.metrics import classification_report, ConfusionMatrixDisplay, recall_score, roc_auc_score\n",
    "\n",
    "from sklearn.dummy import DummyClassifier\n",
    "from sklearn.neighbors import KNeighborsClassifier\n",
    "from sklearn.linear_model import LogisticRegression\n",
    "from sklearn.svm import LinearSVC\n",
    "from sklearn.tree import DecisionTreeClassifier\n",
    "from sklearn.ensemble import RandomForestClassifier\n",
    "\n",
    "import pickle"
   ]
  },
  {
   "cell_type": "code",
   "execution_count": 2,
   "metadata": {},
   "outputs": [],
   "source": [
    "data = pd.read_csv(\"data/WA_Fn-UseC_-Telco-Customer-Churn.csv\")"
   ]
  },
  {
   "cell_type": "code",
   "execution_count": 3,
   "metadata": {},
   "outputs": [],
   "source": [
    "y = data['Churn']\n",
    "X = data.drop(labels=['customerID','Churn'], axis=1)"
   ]
  },
  {
   "cell_type": "code",
   "execution_count": 4,
   "metadata": {},
   "outputs": [],
   "source": [
    "y = y.map({\"Yes\": 1, \"No\": 0})"
   ]
  },
  {
   "cell_type": "code",
   "execution_count": 5,
   "metadata": {},
   "outputs": [],
   "source": [
    "X['TotalCharges'] = X['TotalCharges'].replace(' ', '0')\n",
    "X['TotalCharges'] = X['TotalCharges'].astype('float')"
   ]
  },
  {
   "cell_type": "code",
   "execution_count": 6,
   "metadata": {},
   "outputs": [
    {
     "data": {
      "text/plain": [
       "Index(['gender', 'SeniorCitizen', 'Partner', 'Dependents', 'tenure',\n",
       "       'PhoneService', 'MultipleLines', 'InternetService', 'OnlineSecurity',\n",
       "       'OnlineBackup', 'DeviceProtection', 'TechSupport', 'StreamingTV',\n",
       "       'StreamingMovies', 'Contract', 'PaperlessBilling', 'PaymentMethod',\n",
       "       'MonthlyCharges', 'TotalCharges'],\n",
       "      dtype='object')"
      ]
     },
     "execution_count": 6,
     "metadata": {},
     "output_type": "execute_result"
    }
   ],
   "source": [
    "X.columns"
   ]
  },
  {
   "cell_type": "code",
   "execution_count": 62,
   "metadata": {},
   "outputs": [],
   "source": [
    "X_train_full, X_test, y_train_full, y_test = train_test_split(X, y, test_size=0.2, random_state=123) #Train Test split\n",
    "X_train, X_val, y_train, y_val = train_test_split(X_train_full, y_train_full, test_size=0.2, random_state=241) #Train Test split\n",
    "cv = StratifiedShuffleSplit(test_size=0.2, random_state=321) # Cross validation scheme for hp tuning"
   ]
  },
  {
   "cell_type": "code",
   "execution_count": 63,
   "metadata": {},
   "outputs": [],
   "source": [
    "cat_features = ['gender', 'SeniorCitizen', 'Partner', 'Dependents', 'PhoneService',\n",
    "                'MultipleLines', 'InternetService', 'OnlineSecurity', 'OnlineBackup',\n",
    "                'DeviceProtection', 'TechSupport', 'StreamingTV', 'StreamingMovies',\n",
    "                 'Contract', 'PaperlessBilling', 'PaymentMethod']\n",
    "\n",
    "num_features = ['tenure', 'MonthlyCharges', 'TotalCharges']"
   ]
  },
  {
   "cell_type": "code",
   "execution_count": 64,
   "metadata": {},
   "outputs": [],
   "source": [
    "cat_pipe = Pipeline([\n",
    "                        ('selector', ColumnTransformer([('select_cat', 'passthrough', cat_features)])),\n",
    "                        ('onehot', OneHotEncoder())\n",
    "])\n",
    "\n",
    "num_pipe = Pipeline([\n",
    "                        ('selector', ColumnTransformer([('select_cat', 'passthrough', num_features)])),\n",
    "                        ('scaler', StandardScaler())\n",
    "\n",
    "])\n",
    "\n",
    "preprocess_pipe = FeatureUnion([\n",
    "                            ('cat', cat_pipe),\n",
    "                            ('num', num_pipe)\n",
    "])"
   ]
  },
  {
   "cell_type": "code",
   "execution_count": 65,
   "metadata": {},
   "outputs": [],
   "source": [
    "def construct_pipeline(classifier, preprocessor):\n",
    "    '''constructs pipeline object by combining a preprocessing stage and an estimator\n",
    "    Args:\n",
    "        classifier: Estimator object\n",
    "        preprocessor: Preprocessing transformer object\n",
    "        \n",
    "    Returns:\n",
    "        pipeline object\n",
    "    '''\n",
    "    full_pipe = Pipeline([('preprocess', preprocessor),\n",
    "                        ('clf', classifier )])\n",
    "    return full_pipe\n",
    "\n",
    "def evaluate_model(model, X_test, y_test):\n",
    "    y_pred = model.predict(X_test)\n",
    "    recall  = recall_score(y_test, y_pred)\n",
    "    roc = roc_auc_score(y_test, y_pred)\n",
    "    print(\"Recall: \", recall)\n",
    "    print(\"ROC - AUC: \", roc)\n",
    "\n",
    "    return recall, roc\n",
    "\n",
    "def tune_model(model, param_grid, X_train, y_train, cv = cv, score = \"roc_auc\"):\n",
    "    '''Do hyper parameter tuning using GridSearch strategy\n",
    "    \n",
    "    Args:\n",
    "        model: Model to be tuned\n",
    "        param_grid: dict of parameters\n",
    "        X_train: Feature matrix\n",
    "        y_train: Label matrix\n",
    "        \n",
    "    Returns: \n",
    "        best parameters\n",
    "        best estimator\n",
    "    '''\n",
    "    search = GridSearchCV(model, param_grid = param_grid,\n",
    "                          cv = cv,\n",
    "                          scoring=score,\n",
    "                          return_train_score=True)\n",
    "    search.fit(X_train, y_train)\n",
    "    \n",
    "    print(\"Best parameters: \", search.best_params_)\n",
    "    print(\"-------------------Best model performance(Cross validated) --------------------------\")\n",
    "    \n",
    "    mean_train_score = search.cv_results_['mean_train_score'][search.best_index_]\n",
    "    mean_test_score = search.cv_results_['mean_test_score'][search.best_index_]\n",
    "    std_train_score = search.cv_results_['std_train_score'][search.best_index_]\n",
    "    std_test_score = search.cv_results_['std_test_score'][search.best_index_]\n",
    "\n",
    "    print(f\"Score of the model on the train set:\\n\"\n",
    "        f\"{mean_train_score:.3f} +/- {std_train_score:.6f}\")\n",
    "\n",
    "    print(f\"Score of the model on the test set:\\n\"\n",
    "        f\"{mean_test_score:.3f} +/- {std_test_score:.6f}\")\n",
    "    print(\"------------------------------------------------------------------------------------\")\n",
    "    \n",
    "    return search.best_estimator_\n"
   ]
  },
  {
   "cell_type": "markdown",
   "metadata": {},
   "source": [
    "## Baseline models"
   ]
  },
  {
   "cell_type": "markdown",
   "metadata": {},
   "source": [
    "### Naive Baseline"
   ]
  },
  {
   "cell_type": "code",
   "execution_count": 66,
   "metadata": {},
   "outputs": [
    {
     "name": "stdout",
     "output_type": "stream",
     "text": [
      "Recall:  0.25888324873096447\n",
      "ROC - AUC:  0.5077667475181916\n"
     ]
    }
   ],
   "source": [
    "model = construct_pipeline(DummyClassifier(strategy='stratified'), preprocess_pipe)\n",
    "model.fit(X_train_full, y_train_full)\n",
    "_ = evaluate_model(model, X_test, y_test)"
   ]
  },
  {
   "cell_type": "markdown",
   "metadata": {},
   "source": [
    "### Nearest Neighbours (KNN)"
   ]
  },
  {
   "cell_type": "markdown",
   "metadata": {},
   "source": [
    "#### With default parameters"
   ]
  },
  {
   "cell_type": "code",
   "execution_count": 67,
   "metadata": {},
   "outputs": [
    {
     "name": "stdout",
     "output_type": "stream",
     "text": [
      "Recall:  0.5152284263959391\n",
      "ROC - AUC:  0.689633917631467\n"
     ]
    }
   ],
   "source": [
    "model = construct_pipeline(KNeighborsClassifier(), preprocess_pipe)\n",
    "model.fit(X_train_full, y_train_full)\n",
    "_ = evaluate_model(model, X_test, y_test)"
   ]
  },
  {
   "cell_type": "markdown",
   "metadata": {},
   "source": [
    "#### Tuning the parameters"
   ]
  },
  {
   "cell_type": "code",
   "execution_count": 68,
   "metadata": {},
   "outputs": [
    {
     "name": "stdout",
     "output_type": "stream",
     "text": [
      "Best parameters:  {'clf__n_neighbors': 49}\n",
      "-------------------Best model performance(Cross validated) --------------------------\n",
      "Score of the model on the train set:\n",
      "0.849 +/- 0.003047\n",
      "Score of the model on the test set:\n",
      "0.825 +/- 0.015152\n",
      "------------------------------------------------------------------------------------\n",
      "Recall:  0.5786802030456852\n",
      "ROC - AUC:  0.7321972443799855\n"
     ]
    }
   ],
   "source": [
    "param_grid = {\"clf__n_neighbors\": range(41, 50, 2)}\n",
    "tuned_knn = tune_model(model, param_grid, X_train_full, y_train_full)\n",
    "_ = evaluate_model(tuned_knn, X_test, y_test)"
   ]
  },
  {
   "cell_type": "markdown",
   "metadata": {},
   "source": [
    "## Linear Models"
   ]
  },
  {
   "cell_type": "markdown",
   "metadata": {},
   "source": [
    "### Logistic Regression"
   ]
  },
  {
   "cell_type": "code",
   "execution_count": 69,
   "metadata": {},
   "outputs": [
    {
     "name": "stdout",
     "output_type": "stream",
     "text": [
      "Recall:  0.5609137055837563\n",
      "ROC - AUC:  0.7331662123977895\n"
     ]
    }
   ],
   "source": [
    "model = construct_pipeline(LogisticRegression(max_iter=1000, solver=\"saga\"), preprocess_pipe)\n",
    "model.fit(X_train_full, y_train_full)\n",
    "_ = evaluate_model(model, X_test, y_test)"
   ]
  },
  {
   "cell_type": "markdown",
   "metadata": {},
   "source": [
    "#### Tuning penalty"
   ]
  },
  {
   "cell_type": "code",
   "execution_count": 70,
   "metadata": {},
   "outputs": [
    {
     "name": "stderr",
     "output_type": "stream",
     "text": [
      "/home/viswajith/.local/share/virtualenvs/churn_prediction-S17WP2eW/lib/python3.10/site-packages/sklearn/linear_model/_sag.py:350: ConvergenceWarning: The max_iter was reached which means the coef_ did not converge\n",
      "  warnings.warn(\n",
      "/home/viswajith/.local/share/virtualenvs/churn_prediction-S17WP2eW/lib/python3.10/site-packages/sklearn/linear_model/_sag.py:350: ConvergenceWarning: The max_iter was reached which means the coef_ did not converge\n",
      "  warnings.warn(\n",
      "/home/viswajith/.local/share/virtualenvs/churn_prediction-S17WP2eW/lib/python3.10/site-packages/sklearn/linear_model/_sag.py:350: ConvergenceWarning: The max_iter was reached which means the coef_ did not converge\n",
      "  warnings.warn(\n",
      "/home/viswajith/.local/share/virtualenvs/churn_prediction-S17WP2eW/lib/python3.10/site-packages/sklearn/linear_model/_sag.py:350: ConvergenceWarning: The max_iter was reached which means the coef_ did not converge\n",
      "  warnings.warn(\n",
      "/home/viswajith/.local/share/virtualenvs/churn_prediction-S17WP2eW/lib/python3.10/site-packages/sklearn/linear_model/_sag.py:350: ConvergenceWarning: The max_iter was reached which means the coef_ did not converge\n",
      "  warnings.warn(\n"
     ]
    },
    {
     "name": "stdout",
     "output_type": "stream",
     "text": [
      "Best parameters:  {'clf__C': 25, 'clf__penalty': 'l2'}\n",
      "-------------------Best model performance(Cross validated) --------------------------\n",
      "Score of the model on the train set:\n",
      "0.849 +/- 0.002808\n",
      "Score of the model on the test set:\n",
      "0.838 +/- 0.012149\n",
      "------------------------------------------------------------------------------------\n",
      "Recall:  0.5685279187817259\n",
      "ROC - AUC:  0.7345102648095821\n"
     ]
    }
   ],
   "source": [
    "param_grid = {\"clf__C\": (1e-2, 1e-1, 1, 10, 15, 20, 25, 30, 100),\n",
    "            \"clf__penalty\": (\"l1\", \"l2\")}\n",
    "tuned_log_reg = tune_model(model, param_grid, X_train_full, y_train_full)\n",
    "_ = evaluate_model(tuned_log_reg, X_test, y_test)"
   ]
  },
  {
   "cell_type": "markdown",
   "metadata": {},
   "source": [
    "#### Tuning threshold"
   ]
  },
  {
   "cell_type": "code",
   "execution_count": 79,
   "metadata": {},
   "outputs": [
    {
     "data": {
      "text/plain": [
       "[<matplotlib.lines.Line2D at 0x7f353d86eaa0>]"
      ]
     },
     "execution_count": 79,
     "metadata": {},
     "output_type": "execute_result"
    },
    {
     "data": {
      "image/png": "[encoded data removed]",
      "text/plain": [
       "<Figure size 640x480 with 1 Axes>"
      ]
     },
     "metadata": {},
     "output_type": "display_data"
    }
   ],
   "source": [
    "tuned_model = construct_pipeline(LogisticRegression(max_iter=1000, solver=\"saga\"), preprocess_pipe)\n",
    "tuned_model.fit(X_train, y_train)\n",
    "\n",
    "thresholds = np.linspace(0, 1, 11)\n",
    "roc_scores = []\n",
    "proba = tuned_log_reg.predict_proba(X_val)[:, 1]\n",
    "for thresh in thresholds:\n",
    "    y_pred =  np.where(proba >= thresh, 1, 0)\n",
    "    roc = roc_auc_score(y_val, y_pred)\n",
    "    roc_scores.append(roc)\n",
    "plt.plot(thresholds, roc_scores)"
   ]
  },
  {
   "cell_type": "code",
   "execution_count": 80,
   "metadata": {},
   "outputs": [
    {
     "name": "stdout",
     "output_type": "stream",
     "text": [
      "Recall:  0.7817258883248731\n",
      "ROC - AUC:  0.7750993973644069\n"
     ]
    }
   ],
   "source": [
    "proba = tuned_log_reg.predict_proba(X_test)[:, 1]\n",
    "thresh = 0.3\n",
    "y_pred = np.where(proba >= thresh, 1, 0)\n",
    "recall = recall_score(y_test, y_pred)\n",
    "roc = roc_auc_score(y_test, y_pred)\n",
    "print(\"Recall: \", recall)\n",
    "print(\"ROC - AUC: \", roc)"
   ]
  },
  {
   "cell_type": "markdown",
   "metadata": {},
   "source": [
    "### Support vector machines"
   ]
  },
  {
   "cell_type": "code",
   "execution_count": 44,
   "metadata": {},
   "outputs": [
    {
     "name": "stdout",
     "output_type": "stream",
     "text": [
      "Recall:  0.5634517766497462\n",
      "ROC - AUC:  0.7354204696056613\n"
     ]
    }
   ],
   "source": [
    "model = construct_pipeline(LinearSVC(max_iter=1500), preprocess_pipe)\n",
    "model.fit(X_train, y_train)\n",
    "_ = evaluate_model(model, X_test, y_test)"
   ]
  },
  {
   "cell_type": "code",
   "execution_count": 82,
   "metadata": {},
   "outputs": [
    {
     "name": "stdout",
     "output_type": "stream",
     "text": [
      "Best parameters:  {'clf__C': 10}\n",
      "-------------------Best model performance(Cross validated) --------------------------\n",
      "Score of the model on the train set:\n",
      "0.844 +/- 0.004139\n",
      "Score of the model on the test set:\n",
      "0.838 +/- 0.016177\n",
      "------------------------------------------------------------------------------------\n",
      "Recall:  0.5710659898477157\n",
      "ROC - AUC:  0.7377497436923307\n"
     ]
    }
   ],
   "source": [
    "param_grid = {\"clf__C\": (1e-3, 1e-2, 1e-1, 1, 10, 100)}\n",
    "tuned_svm = tune_model(model, param_grid, X_train, y_train)\n",
    "_ = evaluate_model(tuned_svm, X_test, y_test)"
   ]
  },
  {
   "cell_type": "markdown",
   "metadata": {},
   "source": [
    "## Decision tree"
   ]
  },
  {
   "cell_type": "code",
   "execution_count": 84,
   "metadata": {},
   "outputs": [
    {
     "name": "stdout",
     "output_type": "stream",
     "text": [
      "Recall:  0.5076142131979695\n",
      "ROC - AUC:  0.6641519341851916\n"
     ]
    }
   ],
   "source": [
    "model = construct_pipeline(DecisionTreeClassifier(), preprocess_pipe)\n",
    "model.fit(X_train_full, y_train_full)\n",
    "_ = evaluate_model(model, X_test, y_test)"
   ]
  },
  {
   "cell_type": "code",
   "execution_count": 89,
   "metadata": {},
   "outputs": [
    {
     "name": "stdout",
     "output_type": "stream",
     "text": [
      "Best parameters:  {'clf__max_depth': 4, 'clf__min_samples_split': 3}\n",
      "-------------------Best model performance(Cross validated) --------------------------\n",
      "Score of the model on the train set:\n",
      "0.839 +/- 0.003480\n",
      "Score of the model on the test set:\n",
      "0.826 +/- 0.015148\n",
      "------------------------------------------------------------------------------------\n",
      "Recall:  0.4746192893401015\n",
      "ROC - AUC:  0.6905116151134005\n"
     ]
    }
   ],
   "source": [
    "param_grid = {\"clf__max_depth\": (3, 4, 5, 6, 7, 8),\n",
    "            \"clf__min_samples_split\": (2, 3, 4, 5, 6)}\n",
    "tuned_tree = tune_model(model, param_grid, X_train, y_train)\n",
    "_ = evaluate_model(tuned_tree, X_test, y_test)"
   ]
  },
  {
   "cell_type": "markdown",
   "metadata": {},
   "source": [
    "## Ensemble Methods"
   ]
  },
  {
   "cell_type": "markdown",
   "metadata": {},
   "source": [
    "### Random Forest"
   ]
  },
  {
   "cell_type": "code",
   "execution_count": 99,
   "metadata": {},
   "outputs": [
    {
     "name": "stdout",
     "output_type": "stream",
     "text": [
      "Recall:  0.47715736040609136\n",
      "ROC - AUC:  0.6922732614838338\n"
     ]
    }
   ],
   "source": [
    "model = construct_pipeline(RandomForestClassifier(), preprocess_pipe)\n",
    "model.fit(X_train_full, y_train_full)\n",
    "_ = evaluate_model(model, X_test, y_test)"
   ]
  },
  {
   "cell_type": "code",
   "execution_count": 100,
   "metadata": {},
   "outputs": [
    {
     "name": "stdout",
     "output_type": "stream",
     "text": [
      "Best parameters:  {'clf__max_depth': 6, 'clf__min_samples_split': 5, 'clf__n_estimators': 300}\n",
      "-------------------Best model performance(Cross validated) --------------------------\n",
      "Score of the model on the train set:\n",
      "0.876 +/- 0.003245\n",
      "Score of the model on the test set:\n",
      "0.842 +/- 0.016335\n",
      "------------------------------------------------------------------------------------\n",
      "Recall:  0.4720812182741117\n",
      "ROC - AUC:  0.6971243529794203\n"
     ]
    }
   ],
   "source": [
    "param_grid = {\"clf__n_estimators\": (50, 100, 200, 300, 400),\n",
    "            \"clf__max_depth\": (3, 4, 5, 6, 7, 8),\n",
    "            \"clf__min_samples_split\": (2, 3, 4, 5, 6)}\n",
    "tuned_rf = tune_model(model, param_grid, X_train, y_train)\n",
    "_ = evaluate_model(tuned_rf, X_test, y_test)"
   ]
  },
  {
   "cell_type": "markdown",
   "metadata": {},
   "source": [
    "## Saving the best model"
   ]
  },
  {
   "cell_type": "markdown",
   "metadata": {},
   "source": [
    "### Retraining on the full dataset"
   ]
  },
  {
   "cell_type": "code",
   "execution_count": 102,
   "metadata": {},
   "outputs": [
    {
     "data": {
      "text/html": [
       "<style>#sk-container-id-1 {color: black;background-color: white;}#sk-container-id-1 pre{padding: 0;}#sk-container-id-1 div.sk-toggleable {background-color: white;}#sk-container-id-1 label.sk-toggleable__label {cursor: pointer;display: block;width: 100%;margin-bottom: 0;padding: 0.3em;box-sizing: border-box;text-align: center;}#sk-container-id-1 label.sk-toggleable__label-arrow:before {content: \"▸\";float: left;margin-right: 0.25em;color: #696969;}#sk-container-id-1 label.sk-toggleable__label-arrow:hover:before {color: black;}#sk-container-id-1 div.sk-estimator:hover label.sk-toggleable__label-arrow:before {color: black;}#sk-container-id-1 div.sk-toggleable__content {max-height: 0;max-width: 0;overflow: hidden;text-align: left;background-color: #f0f8ff;}#sk-container-id-1 div.sk-toggleable__content pre {margin: 0.2em;color: black;border-radius: 0.25em;background-color: #f0f8ff;}#sk-container-id-1 input.sk-toggleable__control:checked~div.sk-toggleable__content {max-height: 200px;max-width: 100%;overflow: auto;}#sk-container-id-1 input.sk-toggleable__control:checked~label.sk-toggleable__label-arrow:before {content: \"▾\";}#sk-container-id-1 div.sk-estimator input.sk-toggleable__control:checked~label.sk-toggleable__label {background-color: #d4ebff;}#sk-container-id-1 div.sk-label input.sk-toggleable__control:checked~label.sk-toggleable__label {background-color: #d4ebff;}#sk-container-id-1 input.sk-hidden--visually {border: 0;clip: rect(1px 1px 1px 1px);clip: rect(1px, 1px, 1px, 1px);height: 1px;margin: -1px;overflow: hidden;padding: 0;position: absolute;width: 1px;}#sk-container-id-1 div.sk-estimator {font-family: monospace;background-color: #f0f8ff;border: 1px dotted black;border-radius: 0.25em;box-sizing: border-box;margin-bottom: 0.5em;}#sk-container-id-1 div.sk-estimator:hover {background-color: #d4ebff;}#sk-container-id-1 div.sk-parallel-item::after {content: \"\";width: 100%;border-bottom: 1px solid gray;flex-grow: 1;}#sk-container-id-1 div.sk-label:hover label.sk-toggleable__label {background-color: #d4ebff;}#sk-container-id-1 div.sk-serial::before {content: \"\";position: absolute;border-left: 1px solid gray;box-sizing: border-box;top: 0;bottom: 0;left: 50%;z-index: 0;}#sk-container-id-1 div.sk-serial {display: flex;flex-direction: column;align-items: center;background-color: white;padding-right: 0.2em;padding-left: 0.2em;position: relative;}#sk-container-id-1 div.sk-item {position: relative;z-index: 1;}#sk-container-id-1 div.sk-parallel {display: flex;align-items: stretch;justify-content: center;background-color: white;position: relative;}#sk-container-id-1 div.sk-item::before, #sk-container-id-1 div.sk-parallel-item::before {content: \"\";position: absolute;border-left: 1px solid gray;box-sizing: border-box;top: 0;bottom: 0;left: 50%;z-index: -1;}#sk-container-id-1 div.sk-parallel-item {display: flex;flex-direction: column;z-index: 1;position: relative;background-color: white;}#sk-container-id-1 div.sk-parallel-item:first-child::after {align-self: flex-end;width: 50%;}#sk-container-id-1 div.sk-parallel-item:last-child::after {align-self: flex-start;width: 50%;}#sk-container-id-1 div.sk-parallel-item:only-child::after {width: 0;}#sk-container-id-1 div.sk-dashed-wrapped {border: 1px dashed gray;margin: 0 0.4em 0.5em 0.4em;box-sizing: border-box;padding-bottom: 0.4em;background-color: white;}#sk-container-id-1 div.sk-label label {font-family: monospace;font-weight: bold;display: inline-block;line-height: 1.2em;}#sk-container-id-1 div.sk-label-container {text-align: center;}#sk-container-id-1 div.sk-container {/* jupyter's `normalize.less` sets `[hidden] { display: none; }` but bootstrap.min.css set `[hidden] { display: none !important; }` so we also need the `!important` here to be able to override the default hidden behavior on the sphinx rendered scikit-learn.org. See: https://github.com/scikit-learn/scikit-learn/issues/21755 */display: inline-block !important;position: relative;}#sk-container-id-1 div.sk-text-repr-fallback {display: none;}</style><div id=\"sk-container-id-1\" class=\"sk-top-container\"><div class=\"sk-text-repr-fallback\"><pre>Pipeline(steps=[(&#x27;preprocess&#x27;,\n",
       "                 FeatureUnion(transformer_list=[(&#x27;cat&#x27;,\n",
       "                                                 Pipeline(steps=[(&#x27;selector&#x27;,\n",
       "                                                                  ColumnTransformer(transformers=[(&#x27;select_cat&#x27;,\n",
       "                                                                                                   &#x27;passthrough&#x27;,\n",
       "                                                                                                   [&#x27;gender&#x27;,\n",
       "                                                                                                    &#x27;SeniorCitizen&#x27;,\n",
       "                                                                                                    &#x27;Partner&#x27;,\n",
       "                                                                                                    &#x27;Dependents&#x27;,\n",
       "                                                                                                    &#x27;PhoneService&#x27;,\n",
       "                                                                                                    &#x27;MultipleLines&#x27;,\n",
       "                                                                                                    &#x27;InternetService&#x27;,\n",
       "                                                                                                    &#x27;OnlineSecurity&#x27;,\n",
       "                                                                                                    &#x27;OnlineBackup&#x27;,\n",
       "                                                                                                    &#x27;DeviceProtection&#x27;,\n",
       "                                                                                                    &#x27;TechSupport&#x27;,\n",
       "                                                                                                    &#x27;StreamingTV&#x27;,\n",
       "                                                                                                    &#x27;StreamingMovies&#x27;,\n",
       "                                                                                                    &#x27;Contract&#x27;,\n",
       "                                                                                                    &#x27;PaperlessBilling&#x27;,\n",
       "                                                                                                    &#x27;PaymentMethod&#x27;])])),\n",
       "                                                                 (&#x27;onehot&#x27;,\n",
       "                                                                  OneHotEncoder())])),\n",
       "                                                (&#x27;num&#x27;,\n",
       "                                                 Pipeline(steps=[(&#x27;selector&#x27;,\n",
       "                                                                  ColumnTransformer(transformers=[(&#x27;select_cat&#x27;,\n",
       "                                                                                                   &#x27;passthrough&#x27;,\n",
       "                                                                                                   [&#x27;tenure&#x27;,\n",
       "                                                                                                    &#x27;MonthlyCharges&#x27;,\n",
       "                                                                                                    &#x27;TotalCharges&#x27;])])),\n",
       "                                                                 (&#x27;scaler&#x27;,\n",
       "                                                                  StandardScaler())]))])),\n",
       "                (&#x27;clf&#x27;,\n",
       "                 LogisticRegression(C=25, max_iter=1000, solver=&#x27;saga&#x27;))])</pre><b>In a Jupyter environment, please rerun this cell to show the HTML representation or trust the notebook. <br />On GitHub, the HTML representation is unable to render, please try loading this page with nbviewer.org.</b></div><div class=\"sk-container\" hidden><div class=\"sk-item sk-dashed-wrapped\"><div class=\"sk-label-container\"><div class=\"sk-label sk-toggleable\"><input class=\"sk-toggleable__control sk-hidden--visually\" id=\"sk-estimator-id-1\" type=\"checkbox\" ><label for=\"sk-estimator-id-1\" class=\"sk-toggleable__label sk-toggleable__label-arrow\">Pipeline</label><div class=\"sk-toggleable__content\"><pre>Pipeline(steps=[(&#x27;preprocess&#x27;,\n",
       "                 FeatureUnion(transformer_list=[(&#x27;cat&#x27;,\n",
       "                                                 Pipeline(steps=[(&#x27;selector&#x27;,\n",
       "                                                                  ColumnTransformer(transformers=[(&#x27;select_cat&#x27;,\n",
       "                                                                                                   &#x27;passthrough&#x27;,\n",
       "                                                                                                   [&#x27;gender&#x27;,\n",
       "                                                                                                    &#x27;SeniorCitizen&#x27;,\n",
       "                                                                                                    &#x27;Partner&#x27;,\n",
       "                                                                                                    &#x27;Dependents&#x27;,\n",
       "                                                                                                    &#x27;PhoneService&#x27;,\n",
       "                                                                                                    &#x27;MultipleLines&#x27;,\n",
       "                                                                                                    &#x27;InternetService&#x27;,\n",
       "                                                                                                    &#x27;OnlineSecurity&#x27;,\n",
       "                                                                                                    &#x27;OnlineBackup&#x27;,\n",
       "                                                                                                    &#x27;DeviceProtection&#x27;,\n",
       "                                                                                                    &#x27;TechSupport&#x27;,\n",
       "                                                                                                    &#x27;StreamingTV&#x27;,\n",
       "                                                                                                    &#x27;StreamingMovies&#x27;,\n",
       "                                                                                                    &#x27;Contract&#x27;,\n",
       "                                                                                                    &#x27;PaperlessBilling&#x27;,\n",
       "                                                                                                    &#x27;PaymentMethod&#x27;])])),\n",
       "                                                                 (&#x27;onehot&#x27;,\n",
       "                                                                  OneHotEncoder())])),\n",
       "                                                (&#x27;num&#x27;,\n",
       "                                                 Pipeline(steps=[(&#x27;selector&#x27;,\n",
       "                                                                  ColumnTransformer(transformers=[(&#x27;select_cat&#x27;,\n",
       "                                                                                                   &#x27;passthrough&#x27;,\n",
       "                                                                                                   [&#x27;tenure&#x27;,\n",
       "                                                                                                    &#x27;MonthlyCharges&#x27;,\n",
       "                                                                                                    &#x27;TotalCharges&#x27;])])),\n",
       "                                                                 (&#x27;scaler&#x27;,\n",
       "                                                                  StandardScaler())]))])),\n",
       "                (&#x27;clf&#x27;,\n",
       "                 LogisticRegression(C=25, max_iter=1000, solver=&#x27;saga&#x27;))])</pre></div></div></div><div class=\"sk-serial\"><div class=\"sk-item sk-dashed-wrapped\"><div class=\"sk-label-container\"><div class=\"sk-label sk-toggleable\"><input class=\"sk-toggleable__control sk-hidden--visually\" id=\"sk-estimator-id-2\" type=\"checkbox\" ><label for=\"sk-estimator-id-2\" class=\"sk-toggleable__label sk-toggleable__label-arrow\">preprocess: FeatureUnion</label><div class=\"sk-toggleable__content\"><pre>FeatureUnion(transformer_list=[(&#x27;cat&#x27;,\n",
       "                                Pipeline(steps=[(&#x27;selector&#x27;,\n",
       "                                                 ColumnTransformer(transformers=[(&#x27;select_cat&#x27;,\n",
       "                                                                                  &#x27;passthrough&#x27;,\n",
       "                                                                                  [&#x27;gender&#x27;,\n",
       "                                                                                   &#x27;SeniorCitizen&#x27;,\n",
       "                                                                                   &#x27;Partner&#x27;,\n",
       "                                                                                   &#x27;Dependents&#x27;,\n",
       "                                                                                   &#x27;PhoneService&#x27;,\n",
       "                                                                                   &#x27;MultipleLines&#x27;,\n",
       "                                                                                   &#x27;InternetService&#x27;,\n",
       "                                                                                   &#x27;OnlineSecurity&#x27;,\n",
       "                                                                                   &#x27;OnlineBackup&#x27;,\n",
       "                                                                                   &#x27;DeviceProtection&#x27;,\n",
       "                                                                                   &#x27;TechSupport&#x27;,\n",
       "                                                                                   &#x27;StreamingTV&#x27;,\n",
       "                                                                                   &#x27;StreamingMovies&#x27;,\n",
       "                                                                                   &#x27;Contract&#x27;,\n",
       "                                                                                   &#x27;PaperlessBilling&#x27;,\n",
       "                                                                                   &#x27;PaymentMethod&#x27;])])),\n",
       "                                                (&#x27;onehot&#x27;, OneHotEncoder())])),\n",
       "                               (&#x27;num&#x27;,\n",
       "                                Pipeline(steps=[(&#x27;selector&#x27;,\n",
       "                                                 ColumnTransformer(transformers=[(&#x27;select_cat&#x27;,\n",
       "                                                                                  &#x27;passthrough&#x27;,\n",
       "                                                                                  [&#x27;tenure&#x27;,\n",
       "                                                                                   &#x27;MonthlyCharges&#x27;,\n",
       "                                                                                   &#x27;TotalCharges&#x27;])])),\n",
       "                                                (&#x27;scaler&#x27;,\n",
       "                                                 StandardScaler())]))])</pre></div></div></div><div class=\"sk-parallel\"><div class=\"sk-parallel-item\"><div class=\"sk-item\"><div class=\"sk-label-container\"><div class=\"sk-label sk-toggleable\"><label>cat</label></div></div><div class=\"sk-serial\"><div class=\"sk-item\"><div class=\"sk-serial\"><div class=\"sk-item sk-dashed-wrapped\"><div class=\"sk-label-container\"><div class=\"sk-label sk-toggleable\"><input class=\"sk-toggleable__control sk-hidden--visually\" id=\"sk-estimator-id-3\" type=\"checkbox\" ><label for=\"sk-estimator-id-3\" class=\"sk-toggleable__label sk-toggleable__label-arrow\">selector: ColumnTransformer</label><div class=\"sk-toggleable__content\"><pre>ColumnTransformer(transformers=[(&#x27;select_cat&#x27;, &#x27;passthrough&#x27;,\n",
       "                                 [&#x27;gender&#x27;, &#x27;SeniorCitizen&#x27;, &#x27;Partner&#x27;,\n",
       "                                  &#x27;Dependents&#x27;, &#x27;PhoneService&#x27;, &#x27;MultipleLines&#x27;,\n",
       "                                  &#x27;InternetService&#x27;, &#x27;OnlineSecurity&#x27;,\n",
       "                                  &#x27;OnlineBackup&#x27;, &#x27;DeviceProtection&#x27;,\n",
       "                                  &#x27;TechSupport&#x27;, &#x27;StreamingTV&#x27;,\n",
       "                                  &#x27;StreamingMovies&#x27;, &#x27;Contract&#x27;,\n",
       "                                  &#x27;PaperlessBilling&#x27;, &#x27;PaymentMethod&#x27;])])</pre></div></div></div><div class=\"sk-parallel\"><div class=\"sk-parallel-item\"><div class=\"sk-item\"><div class=\"sk-label-container\"><div class=\"sk-label sk-toggleable\"><input class=\"sk-toggleable__control sk-hidden--visually\" id=\"sk-estimator-id-4\" type=\"checkbox\" ><label for=\"sk-estimator-id-4\" class=\"sk-toggleable__label sk-toggleable__label-arrow\">select_cat</label><div class=\"sk-toggleable__content\"><pre>[&#x27;gender&#x27;, &#x27;SeniorCitizen&#x27;, &#x27;Partner&#x27;, &#x27;Dependents&#x27;, &#x27;PhoneService&#x27;, &#x27;MultipleLines&#x27;, &#x27;InternetService&#x27;, &#x27;OnlineSecurity&#x27;, &#x27;OnlineBackup&#x27;, &#x27;DeviceProtection&#x27;, &#x27;TechSupport&#x27;, &#x27;StreamingTV&#x27;, &#x27;StreamingMovies&#x27;, &#x27;Contract&#x27;, &#x27;PaperlessBilling&#x27;, &#x27;PaymentMethod&#x27;]</pre></div></div></div><div class=\"sk-serial\"><div class=\"sk-item\"><div class=\"sk-estimator sk-toggleable\"><input class=\"sk-toggleable__control sk-hidden--visually\" id=\"sk-estimator-id-5\" type=\"checkbox\" ><label for=\"sk-estimator-id-5\" class=\"sk-toggleable__label sk-toggleable__label-arrow\">passthrough</label><div class=\"sk-toggleable__content\"><pre>passthrough</pre></div></div></div></div></div></div></div></div><div class=\"sk-item\"><div class=\"sk-estimator sk-toggleable\"><input class=\"sk-toggleable__control sk-hidden--visually\" id=\"sk-estimator-id-6\" type=\"checkbox\" ><label for=\"sk-estimator-id-6\" class=\"sk-toggleable__label sk-toggleable__label-arrow\">OneHotEncoder</label><div class=\"sk-toggleable__content\"><pre>OneHotEncoder()</pre></div></div></div></div></div></div></div></div><div class=\"sk-parallel-item\"><div class=\"sk-item\"><div class=\"sk-label-container\"><div class=\"sk-label sk-toggleable\"><label>num</label></div></div><div class=\"sk-serial\"><div class=\"sk-item\"><div class=\"sk-serial\"><div class=\"sk-item sk-dashed-wrapped\"><div class=\"sk-label-container\"><div class=\"sk-label sk-toggleable\"><input class=\"sk-toggleable__control sk-hidden--visually\" id=\"sk-estimator-id-7\" type=\"checkbox\" ><label for=\"sk-estimator-id-7\" class=\"sk-toggleable__label sk-toggleable__label-arrow\">selector: ColumnTransformer</label><div class=\"sk-toggleable__content\"><pre>ColumnTransformer(transformers=[(&#x27;select_cat&#x27;, &#x27;passthrough&#x27;,\n",
       "                                 [&#x27;tenure&#x27;, &#x27;MonthlyCharges&#x27;, &#x27;TotalCharges&#x27;])])</pre></div></div></div><div class=\"sk-parallel\"><div class=\"sk-parallel-item\"><div class=\"sk-item\"><div class=\"sk-label-container\"><div class=\"sk-label sk-toggleable\"><input class=\"sk-toggleable__control sk-hidden--visually\" id=\"sk-estimator-id-8\" type=\"checkbox\" ><label for=\"sk-estimator-id-8\" class=\"sk-toggleable__label sk-toggleable__label-arrow\">select_cat</label><div class=\"sk-toggleable__content\"><pre>[&#x27;tenure&#x27;, &#x27;MonthlyCharges&#x27;, &#x27;TotalCharges&#x27;]</pre></div></div></div><div class=\"sk-serial\"><div class=\"sk-item\"><div class=\"sk-estimator sk-toggleable\"><input class=\"sk-toggleable__control sk-hidden--visually\" id=\"sk-estimator-id-9\" type=\"checkbox\" ><label for=\"sk-estimator-id-9\" class=\"sk-toggleable__label sk-toggleable__label-arrow\">passthrough</label><div class=\"sk-toggleable__content\"><pre>passthrough</pre></div></div></div></div></div></div></div></div><div class=\"sk-item\"><div class=\"sk-estimator sk-toggleable\"><input class=\"sk-toggleable__control sk-hidden--visually\" id=\"sk-estimator-id-10\" type=\"checkbox\" ><label for=\"sk-estimator-id-10\" class=\"sk-toggleable__label sk-toggleable__label-arrow\">StandardScaler</label><div class=\"sk-toggleable__content\"><pre>StandardScaler()</pre></div></div></div></div></div></div></div></div></div></div><div class=\"sk-item\"><div class=\"sk-estimator sk-toggleable\"><input class=\"sk-toggleable__control sk-hidden--visually\" id=\"sk-estimator-id-11\" type=\"checkbox\" ><label for=\"sk-estimator-id-11\" class=\"sk-toggleable__label sk-toggleable__label-arrow\">LogisticRegression</label><div class=\"sk-toggleable__content\"><pre>LogisticRegression(C=25, max_iter=1000, solver=&#x27;saga&#x27;)</pre></div></div></div></div></div></div></div>"
      ],
      "text/plain": [
       "Pipeline(steps=[('preprocess',\n",
       "                 FeatureUnion(transformer_list=[('cat',\n",
       "                                                 Pipeline(steps=[('selector',\n",
       "                                                                  ColumnTransformer(transformers=[('select_cat',\n",
       "                                                                                                   'passthrough',\n",
       "                                                                                                   ['gender',\n",
       "                                                                                                    'SeniorCitizen',\n",
       "                                                                                                    'Partner',\n",
       "                                                                                                    'Dependents',\n",
       "                                                                                                    'PhoneService',\n",
       "                                                                                                    'MultipleLines',\n",
       "                                                                                                    'InternetService',\n",
       "                                                                                                    'OnlineSecurity',\n",
       "                                                                                                    'OnlineBackup',\n",
       "                                                                                                    'DeviceProtection',\n",
       "                                                                                                    'TechSupport',\n",
       "                                                                                                    'StreamingTV',\n",
       "                                                                                                    'StreamingMovies',\n",
       "                                                                                                    'Contract',\n",
       "                                                                                                    'PaperlessBilling',\n",
       "                                                                                                    'PaymentMethod'])])),\n",
       "                                                                 ('onehot',\n",
       "                                                                  OneHotEncoder())])),\n",
       "                                                ('num',\n",
       "                                                 Pipeline(steps=[('selector',\n",
       "                                                                  ColumnTransformer(transformers=[('select_cat',\n",
       "                                                                                                   'passthrough',\n",
       "                                                                                                   ['tenure',\n",
       "                                                                                                    'MonthlyCharges',\n",
       "                                                                                                    'TotalCharges'])])),\n",
       "                                                                 ('scaler',\n",
       "                                                                  StandardScaler())]))])),\n",
       "                ('clf',\n",
       "                 LogisticRegression(C=25, max_iter=1000, solver='saga'))])"
      ]
     },
     "execution_count": 102,
     "metadata": {},
     "output_type": "execute_result"
    }
   ],
   "source": [
    "final_model = construct_pipeline(LogisticRegression(C = 25, max_iter=1000, solver=\"saga\"), preprocess_pipe)\n",
    "final_model.fit(X, y)"
   ]
  },
  {
   "cell_type": "code",
   "execution_count": 103,
   "metadata": {},
   "outputs": [],
   "source": [
    "with open(\"churn_model.bin\", 'wb') as f_out:\n",
    "    pickle.dump(final_model, f_out)"
   ]
  },
  {
   "cell_type": "code",
   "execution_count": null,
   "metadata": {},
   "outputs": [],
   "source": []
  }
 ],
 "metadata": {
  "kernelspec": {
   "display_name": "Python 3.10.6 ('churn_prediction-S17WP2eW')",
   "language": "python",
   "name": "python3"
  },
  "language_info": {
   "codemirror_mode": {
    "name": "ipython",
    "version": 3
   },
   "file_extension": ".py",
   "mimetype": "text/x-python",
   "name": "python",
   "nbconvert_exporter": "python",
   "pygments_lexer": "ipython3",
   "version": "3.10.6"
  },
  "orig_nbformat": 4,
  "vscode": {
   "interpreter": {
    "hash": "e21915cc597514f63ebdda0e732dd02d1dc87a6b7993919ac9e581ea5abb5f18"
   }
  }
 },
 "nbformat": 4,
 "nbformat_minor": 2
}
